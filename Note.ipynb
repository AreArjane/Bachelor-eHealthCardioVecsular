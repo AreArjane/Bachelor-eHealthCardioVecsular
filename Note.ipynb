{
 "cells": [
  {
   "cell_type": "markdown",
   "id": "720e1b7e",
   "metadata": {},
   "source": [
    "pip install numpy scipy pandas matplotlib seaborn plotly tqdm jupyterlab\n",
    "pip install wfdb neurokit2 biosppy\n",
    "pip install scikit-learn torch torchvision torchaudio captum torchcam shap"
   ]
  }
 ],
 "metadata": {
  "language_info": {
   "name": "python"
  }
 },
 "nbformat": 4,
 "nbformat_minor": 5
}
